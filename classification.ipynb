{
 "cells": [
  {
   "cell_type": "code",
   "execution_count": 1,
   "metadata": {},
   "outputs": [
    {
     "name": "stdout",
     "output_type": "stream",
     "text": [
      "(4165, 15)\n",
      "Train set no. of rows and columns  (3123, 15)\n",
      "Test set no. of rows and columns  (1042, 15)\n"
     ]
    }
   ],
   "source": [
    "import matplotlib.pyplot as plt\n",
    "import pandas as pd\n",
    "data_frame_Arrests_under_crime_against_women = pd.read_csv(\"Arrests_under_crime_against_women.csv\")\n",
    "data_frame_Arrests_under_crime_against_women.drop(labels=\"Group_Name\", axis='columns', inplace=True)\n",
    "print(data_frame_Arrests_under_crime_against_women.shape)\n",
    "from sklearn.model_selection import train_test_split\n",
    "train_set, test_set = train_test_split(data_frame_Arrests_under_crime_against_women, test_size=0.25, random_state=94)\n",
    "print(\"Train set no. of rows and columns \",train_set.shape)\n",
    "print(\"Test set no. of rows and columns \",test_set.shape)"
   ]
  },
  {
   "cell_type": "markdown",
   "metadata": {},
   "source": [
    "### Features for X and Y\n",
    "I have chosed the year as a intial set of feature for x and Total_Persons_under_Trial as a target feature y to know how many people under trail form 2001 to 2010 and to predict the crime rate in the feature."
   ]
  },
  {
   "cell_type": "code",
   "execution_count": 13,
   "metadata": {},
   "outputs": [
    {
     "name": "stdout",
     "output_type": "stream",
     "text": [
      "DecisionTreeClassifier(class_weight=None, criterion='gini', max_depth=None,\n",
      "            max_features=None, max_leaf_nodes=None,\n",
      "            min_impurity_decrease=0.0, min_impurity_split=None,\n",
      "            min_samples_leaf=1, min_samples_split=2,\n",
      "            min_weight_fraction_leaf=0.0, presort=False, random_state=None,\n",
      "            splitter='best')\n",
      "Confusion Matrix\n",
      "[[841   0   0 ...   0   0   0]\n",
      " [ 56   0   0 ...   0   0   0]\n",
      " [ 47   0   0 ...   0   0   0]\n",
      " ...\n",
      " [  1   0   0 ...   0   0   0]\n",
      " [  1   0   0 ...   0   0   0]\n",
      " [  1   0   0 ...   0   0   0]]\n",
      "Accuracy:  0.2692923471021454\n",
      "Sensitivity:  0.2692923471021454\n",
      "Precision:  0.2692923471021454\n",
      "F1:  0.4243188698284561\n"
     ]
    }
   ],
   "source": [
    "from sklearn.tree import DecisionTreeClassifier\n",
    "X = train_set[[\"Year\"]]\n",
    "Y = train_set[\"Total_Persons_under_Trial\"]\n",
    "tree_classifier = DecisionTreeClassifier()\n",
    "print(tree_classifier.fit(X,Y))\n",
    "from sklearn.metrics import confusion_matrix\n",
    "y_predicted = tree_classifier.predict(X)\n",
    "matrix = confusion_matrix(Y, y_predicted)\n",
    "print(\"Confusion Matrix\")\n",
    "print(matrix)\n",
    "from sklearn.metrics import accuracy_score, precision_score, recall_score, f1_score\n",
    "import numpy as np\n",
    "print (\"Accuracy: \", accuracy_score(Y, y_predicted))\n",
    "print (\"Sensitivity: \", recall_score(Y, y_predicted, average=\"weighted\"))\n",
    "print (\"Precision: \", precision_score(Y, y_predicted, average=\"weighted\",labels=np.unique(y_predicted)))\n",
    "print (\"F1: \", f1_score(Y, y_predicted, average=\"weighted\",labels=np.unique(y_predicted)))"
   ]
  },
  {
   "cell_type": "markdown",
   "metadata": {},
   "source": [
    "### Results\n",
    "1. Accuracy is 26% correct prediction from the input\n",
    "2. Sensitivity and precision are 26% from the input"
   ]
  },
  {
   "cell_type": "code",
   "execution_count": 15,
   "metadata": {},
   "outputs": [
    {
     "name": "stdout",
     "output_type": "stream",
     "text": [
      "SVC(C=1.0, cache_size=200, class_weight=None, coef0=0.0,\n",
      "  decision_function_shape='ovr', degree=3, gamma='auto', kernel='rbf',\n",
      "  max_iter=-1, probability=False, random_state=None, shrinking=True,\n",
      "  tol=0.001, verbose=False)\n",
      "Confusion Matrix\n",
      "[[841   0   0 ...   0   0   0]\n",
      " [ 56   0   0 ...   0   0   0]\n",
      " [ 47   0   0 ...   0   0   0]\n",
      " ...\n",
      " [  1   0   0 ...   0   0   0]\n",
      " [  1   0   0 ...   0   0   0]\n",
      " [  1   0   0 ...   0   0   0]]\n",
      "Accuracy:  0.2692923471021454\n",
      "Sensitivity:  0.2692923471021454\n",
      "Precision:  0.2692923471021454\n",
      "F1:  0.4243188698284561\n"
     ]
    }
   ],
   "source": [
    "from sklearn.svm import SVC\n",
    "X = train_set[[\"Year\"]]\n",
    "Y = train_set[\"Total_Persons_under_Trial\"]\n",
    "svm_classifier = SVC(gamma='auto')\n",
    "print(svm_classifier.fit(X,Y))\n",
    "y_predicted = svm_classifier.predict(X)\n",
    "matrix = confusion_matrix(Y, y_predicted)\n",
    "print(\"Confusion Matrix\")\n",
    "print(matrix)\n",
    "print (\"Accuracy: \", accuracy_score(Y, y_predicted))\n",
    "print (\"Sensitivity: \", recall_score(Y, y_predicted, average=\"weighted\"))\n",
    "print (\"Precision: \", precision_score(Y, y_predicted, average=\"weighted\",labels=np.unique(y_predicted)))\n",
    "print (\"F1: \", f1_score(Y, y_predicted, average=\"weighted\",labels=np.unique(y_predicted)))"
   ]
  },
  {
   "cell_type": "code",
   "execution_count": 11,
   "metadata": {},
   "outputs": [
    {
     "name": "stdout",
     "output_type": "stream",
     "text": [
      "SVC(C=1.0, cache_size=200, class_weight=None, coef0=0.0,\n",
      "  decision_function_shape='ovr', degree=3, gamma='auto', kernel='rbf',\n",
      "  max_iter=-1, probability=False, random_state=None, shrinking=True,\n",
      "  tol=0.001, verbose=False)\n",
      "Confusion Matrix\n",
      "[[309   0   0 ...   0   0   0]\n",
      " [ 20   0   0 ...   0   0   0]\n",
      " [ 12   0   0 ...   0   0   0]\n",
      " ...\n",
      " [  1   0   0 ...   0   0   0]\n",
      " [  1   0   0 ...   0   0   0]\n",
      " [  1   0   0 ...   0   0   0]]\n",
      "Accuracy:  0.2965451055662188\n",
      "Sensitivity:  0.2965451055662188\n",
      "Precision:  0.2965451055662188\n",
      "F1:  0.4574389341228719\n"
     ]
    }
   ],
   "source": [
    "X = test_set[[\"Year\"]]\n",
    "Y = test_set[\"Total_Persons_under_Trial\"]\n",
    "svm_classifier = SVC(gamma='auto')\n",
    "print(svm_classifier.fit(X,Y))\n",
    "y_predicted = svm_classifier.predict(X)\n",
    "matrix = confusion_matrix(Y, y_predicted)\n",
    "print(\"Confusion Matrix\")\n",
    "print(matrix)\n",
    "print (\"Accuracy: \", accuracy_score(Y, y_predicted))\n",
    "print (\"Sensitivity: \", recall_score(Y, y_predicted, average=\"weighted\"))\n",
    "print (\"Precision: \", precision_score(Y, y_predicted, average=\"weighted\",labels=np.unique(y_predicted)))\n",
    "print (\"F1: \", f1_score(Y, y_predicted, average=\"weighted\",labels=np.unique(y_predicted)))"
   ]
  },
  {
   "cell_type": "markdown",
   "metadata": {},
   "source": [
    "From the above classifiers, we have different accuracy results. The better the accuracy level the better the model."
   ]
  },
  {
   "cell_type": "code",
   "execution_count": null,
   "metadata": {},
   "outputs": [],
   "source": []
  }
 ],
 "metadata": {
  "kernelspec": {
   "display_name": "Python 3 (Spyder)",
   "language": "python3",
   "name": "python3"
  },
  "language_info": {
   "codemirror_mode": {
    "name": "ipython",
    "version": 3
   },
   "file_extension": ".py",
   "mimetype": "text/x-python",
   "name": "python",
   "nbconvert_exporter": "python",
   "pygments_lexer": "ipython3",
   "version": "3.7.1"
  }
 },
 "nbformat": 4,
 "nbformat_minor": 2
}
