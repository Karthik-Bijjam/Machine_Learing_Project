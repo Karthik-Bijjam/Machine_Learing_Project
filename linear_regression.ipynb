{
 "cells": [
  {
   "cell_type": "code",
   "execution_count": 2,
   "metadata": {},
   "outputs": [
    {
     "name": "stdout",
     "output_type": "stream",
     "text": [
      "(4165, 15)\n",
      "Train set no. of rows and columns  (3123, 15)\n",
      "Test set no. of rows and columns  (1042, 15)\n"
     ]
    }
   ],
   "source": [
    "import pandas as pd\n",
    "data_frame_Arrests_under_crime_against_women = pd.read_csv(\"Arrests_under_crime_against_women.csv\")\n",
    "data_frame_Arrests_under_crime_against_women.head()\n",
    "data_frame_Arrests_under_crime_against_women.drop(labels=\"Group_Name\", axis='columns', inplace=True)\n",
    "print(data_frame_Arrests_under_crime_against_women.shape)\n",
    "from sklearn.model_selection import train_test_split\n",
    "train_set, test_set = train_test_split(data_frame_Arrests_under_crime_against_women, test_size=0.25, random_state=94)\n",
    "print(\"Train set no. of rows and columns \",train_set.shape)\n",
    "print(\"Test set no. of rows and columns \",test_set.shape)\n"
   ]
  },
  {
   "cell_type": "markdown",
   "metadata": {},
   "source": [
    "### Features for X and Y\n",
    "\n",
    "I have choosen years as initial set of features for X, the Persons_Arrested is a target feature for y  to know the how many people are reported in past years and it will help to predict the crime rate in the feature\n"
   ]
  },
  {
   "cell_type": "code",
   "execution_count": 5,
   "metadata": {
    "scrolled": true
   },
   "outputs": [
    {
     "data": {
      "text/html": [
       "<div>\n",
       "<style scoped>\n",
       "    .dataframe tbody tr th:only-of-type {\n",
       "        vertical-align: middle;\n",
       "    }\n",
       "\n",
       "    .dataframe tbody tr th {\n",
       "        vertical-align: top;\n",
       "    }\n",
       "\n",
       "    .dataframe thead th {\n",
       "        text-align: right;\n",
       "    }\n",
       "</style>\n",
       "<table border=\"1\" class=\"dataframe\">\n",
       "  <thead>\n",
       "    <tr style=\"text-align: right;\">\n",
       "      <th></th>\n",
       "      <th>Area_Name</th>\n",
       "      <th>Year</th>\n",
       "      <th>Sub_Group_Name</th>\n",
       "      <th>Persons_Acquitted</th>\n",
       "      <th>Persons_against_whom_cases_Compounded_or_Withdrawn</th>\n",
       "      <th>Persons_Arrested</th>\n",
       "      <th>Persons_Chargesheeted</th>\n",
       "      <th>Persons_Convicted</th>\n",
       "      <th>Persons_in_Custody_or_on_Bail_during_Investigation_at_Year_beginning</th>\n",
       "      <th>Persons_in_Custody_or_on_Bail_during_Investigation_at_Year_end</th>\n",
       "      <th>Persons_in_Custody_or_on_Bail_during_Trial_at_Year_End</th>\n",
       "      <th>Persons_Released_or_Freed_by_Police_or_Magistrate_before_Trial_for_want_of_evidence_or_any_other_reason</th>\n",
       "      <th>Persons_Trial_Completed</th>\n",
       "      <th>Persons_under_Trial_at_Year_beginning</th>\n",
       "      <th>Total_Persons_under_Trial</th>\n",
       "    </tr>\n",
       "  </thead>\n",
       "  <tbody>\n",
       "    <tr>\n",
       "      <th>0</th>\n",
       "      <td>Andaman &amp; Nicobar Islands</td>\n",
       "      <td>2001</td>\n",
       "      <td>01. Rape</td>\n",
       "      <td>6</td>\n",
       "      <td>0</td>\n",
       "      <td>3</td>\n",
       "      <td>3</td>\n",
       "      <td>0</td>\n",
       "      <td>6</td>\n",
       "      <td>6</td>\n",
       "      <td>45</td>\n",
       "      <td>0</td>\n",
       "      <td>6</td>\n",
       "      <td>48</td>\n",
       "      <td>51</td>\n",
       "    </tr>\n",
       "    <tr>\n",
       "      <th>1</th>\n",
       "      <td>Andhra Pradesh</td>\n",
       "      <td>2001</td>\n",
       "      <td>01. Rape</td>\n",
       "      <td>1168</td>\n",
       "      <td>13</td>\n",
       "      <td>1150</td>\n",
       "      <td>1021</td>\n",
       "      <td>246</td>\n",
       "      <td>450</td>\n",
       "      <td>545</td>\n",
       "      <td>2191</td>\n",
       "      <td>34</td>\n",
       "      <td>1414</td>\n",
       "      <td>2597</td>\n",
       "      <td>3618</td>\n",
       "    </tr>\n",
       "    <tr>\n",
       "      <th>2</th>\n",
       "      <td>Arunachal Pradesh</td>\n",
       "      <td>2001</td>\n",
       "      <td>01. Rape</td>\n",
       "      <td>1</td>\n",
       "      <td>0</td>\n",
       "      <td>51</td>\n",
       "      <td>31</td>\n",
       "      <td>2</td>\n",
       "      <td>25</td>\n",
       "      <td>30</td>\n",
       "      <td>347</td>\n",
       "      <td>15</td>\n",
       "      <td>3</td>\n",
       "      <td>319</td>\n",
       "      <td>350</td>\n",
       "    </tr>\n",
       "    <tr>\n",
       "      <th>3</th>\n",
       "      <td>Assam</td>\n",
       "      <td>2001</td>\n",
       "      <td>01. Rape</td>\n",
       "      <td>403</td>\n",
       "      <td>14</td>\n",
       "      <td>928</td>\n",
       "      <td>585</td>\n",
       "      <td>120</td>\n",
       "      <td>806</td>\n",
       "      <td>959</td>\n",
       "      <td>2331</td>\n",
       "      <td>190</td>\n",
       "      <td>523</td>\n",
       "      <td>2283</td>\n",
       "      <td>2868</td>\n",
       "    </tr>\n",
       "    <tr>\n",
       "      <th>4</th>\n",
       "      <td>Bihar</td>\n",
       "      <td>2001</td>\n",
       "      <td>01. Rape</td>\n",
       "      <td>756</td>\n",
       "      <td>0</td>\n",
       "      <td>1400</td>\n",
       "      <td>1302</td>\n",
       "      <td>217</td>\n",
       "      <td>719</td>\n",
       "      <td>576</td>\n",
       "      <td>5963</td>\n",
       "      <td>241</td>\n",
       "      <td>973</td>\n",
       "      <td>5634</td>\n",
       "      <td>6936</td>\n",
       "    </tr>\n",
       "  </tbody>\n",
       "</table>\n",
       "</div>"
      ],
      "text/plain": [
       "                   Area_Name            ...              Total_Persons_under_Trial\n",
       "0  Andaman & Nicobar Islands            ...                                     51\n",
       "1             Andhra Pradesh            ...                                   3618\n",
       "2          Arunachal Pradesh            ...                                    350\n",
       "3                      Assam            ...                                   2868\n",
       "4                      Bihar            ...                                   6936\n",
       "\n",
       "[5 rows x 15 columns]"
      ]
     },
     "execution_count": 5,
     "metadata": {},
     "output_type": "execute_result"
    }
   ],
   "source": [
    "data_frame_Arrests_under_crime_against_women.head()"
   ]
  },
  {
   "cell_type": "code",
   "execution_count": 6,
   "metadata": {},
   "outputs": [
    {
     "name": "stdout",
     "output_type": "stream",
     "text": [
      "LinearRegression(copy_X=True, fit_intercept=True, n_jobs=None,\n",
      "         normalize=False)\n",
      "0.0008469023989224889\n",
      "mean squared error is  19415495.186320525\n",
      "The root mean squared error is  4406.301758427415\n",
      "The feature coefficients are  [44.42256531]\n"
     ]
    },
    {
     "data": {
      "image/png": "[encoded data removed]",
      "text/plain": [
       "<Figure size 432x288 with 1 Axes>"
      ]
     },
     "metadata": {},
     "output_type": "display_data"
    }
   ],
   "source": [
    "from sklearn.linear_model import LinearRegression\n",
    "from sklearn.metrics import mean_squared_error\n",
    "from math import sqrt\n",
    "reg = LinearRegression()\n",
    "X = train_set[[\"Year\"]]\n",
    "Y = train_set[\"Persons_Arrested\"]\n",
    "print(reg.fit(X, Y))\n",
    "\n",
    "#Finding R2 value using score method\n",
    "print(reg.score(X,Y))\n",
    "\n",
    "y_pred = reg.predict(X)\n",
    "mse = mean_squared_error(Y, y_pred)\n",
    "print(\"mean squared error is \",  mse)\n",
    "rmse = sqrt(mse)\n",
    "print(\"The root mean squared error is \", rmse)\n",
    "\n",
    "print(\"The feature coefficients are \", reg.coef_)\n",
    "\n",
    "import matplotlib.pyplot as plt\n",
    "plt.scatter(x = X, y = Y,marker=\"o\", c=\"green\")\n",
    "plt.xlabel(\"years\")\n",
    "plt.ylabel(\"Persons Arrested\")\n",
    "plt.savefig(\"figure.png\")\n",
    "plt.show()"
   ]
  },
  {
   "cell_type": "markdown",
   "metadata": {},
   "source": [
    "R2 determines that 0% of the predicted value is determined from input. It gives us percentage variation on input.\n"
   ]
  },
  {
   "cell_type": "code",
   "execution_count": 30,
   "metadata": {},
   "outputs": [
    {
     "name": "stdout",
     "output_type": "stream",
     "text": [
      "R2 is :  0.9196514482494539\n",
      "R2 is : 0.9883361235365299\n",
      "The Feature Coefficients:  [70.09783307  0.4768046  -8.03036177 -1.68144838  7.46548339 -4.56102542\n",
      "  0.92913015]\n"
     ]
    }
   ],
   "source": [
    "reg_plus_quad = LinearRegression()\n",
    "X = train_set[[\"Year\",\"Persons_Acquitted\",\"Persons_against_whom_cases_Compounded_or_Withdrawn\",\"Persons_Arrested\",\"Persons_Chargesheeted\",\"Persons_Convicted\",\"Persons_Trial_Completed\"]]\n",
    "Y = train_set[\"Total_Persons_under_Trial\"]\n",
    "reg_plus_quad.fit(X,Y)\n",
    "print(\"R2 is : \",reg_plus_quad.score(X,Y))\n",
    "\n",
    "from sklearn.preprocessing import PolynomialFeatures\n",
    "create_quad_terms = PolynomialFeatures(degree=3, include_bias=False)\n",
    "X_quad_terms = create_quad_terms.fit_transform(X)\n",
    "reg_plus_quad.fit(X_quad_terms, Y)\n",
    "\n",
    "print(\"R2 is :\",reg_plus_quad.score(X_quad_terms,Y))\n",
    "print(\"The Feature Coefficients: \", reg.coef_)"
   ]
  },
  {
   "cell_type": "code",
   "execution_count": 28,
   "metadata": {},
   "outputs": [
    {
     "name": "stdout",
     "output_type": "stream",
     "text": [
      "LinearRegression(copy_X=True, fit_intercept=True, n_jobs=None,\n",
      "         normalize=False)\n",
      "0.9196514482494539\n",
      "Mean Squared Error:  34470015.01920974\n",
      "The Root Mean Squared Error:  5871.117016310418\n",
      "The Feature Coefficients:  [70.09783307  0.4768046  -8.03036177 -1.68144838  7.46548339 -4.56102542\n",
      "  0.92913015]\n"
     ]
    }
   ],
   "source": [
    "from math import sqrt\n",
    "reg = LinearRegression()\n",
    "X = train_set[[\"Year\",\"Persons_Acquitted\",\"Persons_against_whom_cases_Compounded_or_Withdrawn\",\"Persons_Arrested\",\"Persons_Chargesheeted\",\"Persons_Convicted\",\"Persons_Trial_Completed\"]]\n",
    "Y = train_set[\"Total_Persons_under_Trial\"]\n",
    "print(reg.fit(X, Y))\n",
    "\n",
    "#Finding r2 value using score method\n",
    "print(reg.score(X,Y))\n",
    "\n",
    "y_pred = reg.predict(X)\n",
    "mse = mean_squared_error(Y, y_pred)\n",
    "print(\"Mean Squared Error: \",  mse)\n",
    "rmse = sqrt(mse)\n",
    "print(\"The Root Mean Squared Error: \", rmse)\n",
    "print(\"The Feature Coefficients: \", reg.coef_)"
   ]
  },
  {
   "cell_type": "markdown",
   "metadata": {},
   "source": [
    "When I use multiple attributes as initial set of attributes R2 determines maximum percentage  of the predicted values are input.\n"
   ]
  },
  {
   "cell_type": "code",
   "execution_count": null,
   "metadata": {},
   "outputs": [],
   "source": []
  }
 ],
 "metadata": {
  "kernelspec": {
   "display_name": "Python 3 (Spyder)",
   "language": "python3",
   "name": "python3"
  },
  "language_info": {
   "codemirror_mode": {
    "name": "ipython",
    "version": 3
   },
   "file_extension": ".py",
   "mimetype": "text/x-python",
   "name": "python",
   "nbconvert_exporter": "python",
   "pygments_lexer": "ipython3",
   "version": "3.7.1"
  }
 },
 "nbformat": 4,
 "nbformat_minor": 2
}
